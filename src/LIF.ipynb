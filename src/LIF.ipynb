{
  "nbformat": 4,
  "nbformat_minor": 0,
  "metadata": {
    "colab": {
      "name": "LIF.ipynb",
      "version": "0.3.2",
      "provenance": [],
      "include_colab_link": true
    },
    "kernelspec": {
      "name": "python3",
      "display_name": "Python 3"
    },
    "accelerator": "GPU"
  },
  "cells": [
    {
      "cell_type": "markdown",
      "metadata": {
        "id": "view-in-github",
        "colab_type": "text"
      },
      "source": [
        "<a href=\"https://colab.research.google.com/github/ZhyShe/Summer_2019/blob/master/src/LIF.ipynb\" target=\"_parent\"><img src=\"https://colab.research.google.com/assets/colab-badge.svg\" alt=\"Open In Colab\"/></a>"
      ]
    },
    {
      "cell_type": "markdown",
      "metadata": {
        "id": "j7SeQtsE8EQf",
        "colab_type": "text"
      },
      "source": [
        "$$\n",
        "\\tau_m\\frac{du}{dt}=-[u(t)-u_{rest}]+RI(t)\n",
        "$$"
      ]
    },
    {
      "cell_type": "code",
      "metadata": {
        "id": "tLUhlGmb4sjt",
        "colab_type": "code",
        "outputId": "9619290d-79c3-44b5-eb17-47a71b781ac1",
        "colab": {
          "base_uri": "https://localhost:8080/",
          "height": 190
        }
      },
      "source": [
        "! pip3 install brian2"
      ],
      "execution_count": 0,
      "outputs": [
        {
          "output_type": "stream",
          "text": [
            "Requirement already satisfied: brian2 in /usr/local/lib/python3.6/dist-packages (2.2.2.1)\n",
            "Requirement already satisfied: numpy>=1.10 in /usr/local/lib/python3.6/dist-packages (from brian2) (1.16.3)\n",
            "Requirement already satisfied: sympy!=1.1.0,>=0.7.6 in /usr/local/lib/python3.6/dist-packages (from brian2) (1.1.1)\n",
            "Requirement already satisfied: cython>=0.29 in /usr/local/lib/python3.6/dist-packages (from brian2) (0.29.7)\n",
            "Requirement already satisfied: jinja2>=2.7 in /usr/local/lib/python3.6/dist-packages (from brian2) (2.10.1)\n",
            "Requirement already satisfied: setuptools>=21 in /usr/local/lib/python3.6/dist-packages (from brian2) (41.0.1)\n",
            "Requirement already satisfied: pyparsing in /usr/local/lib/python3.6/dist-packages (from brian2) (2.4.0)\n",
            "Requirement already satisfied: mpmath>=0.19 in /usr/local/lib/python3.6/dist-packages (from sympy!=1.1.0,>=0.7.6->brian2) (1.1.0)\n",
            "Requirement already satisfied: MarkupSafe>=0.23 in /usr/local/lib/python3.6/dist-packages (from jinja2>=2.7->brian2) (1.1.1)\n"
          ],
          "name": "stdout"
        }
      ]
    },
    {
      "cell_type": "code",
      "metadata": {
        "id": "yGoeObnJ4y5I",
        "colab_type": "code",
        "colab": {}
      },
      "source": [
        "%matplotlib inline\n",
        "import brian2 as b2\n",
        "import matplotlib.pyplot as plt\n",
        "import numpy as np"
      ],
      "execution_count": 0,
      "outputs": []
    },
    {
      "cell_type": "code",
      "metadata": {
        "id": "mr8SdfAc43ZS",
        "colab_type": "code",
        "colab": {}
      },
      "source": [
        "def LIF_synapse(n,\n",
        "                input_current,\n",
        "               simulation_time,\n",
        "               v_rest,\n",
        "               v_reset,\n",
        "               firing_threshold,\n",
        "                membrane_resistance,\n",
        "                membrane_time_scale\n",
        "               ):\n",
        "  '''\n",
        "  Args:\n",
        "       n: int, number of neuron\n",
        "       input_current: a list, shape, 1*n\n",
        "       simulation_time: Time for which the dynamics are simulated\n",
        "       v_rest: Resting potential\n",
        "       v_reset: Reset voltage after spike \n",
        "       firing_threshold: Voltage threshold for spiking\n",
        "       \n",
        "  '''\n",
        "  eqs='''\n",
        "  dv/dt = (-(v-v_rest) + membrane_resistance * I) / membrane_time_scale : volt\n",
        "  I : amp\n",
        "  '''\n",
        "  G=b2.NeuronGroup(2, eqs, threshold='v>firing_threshold', reset='v=v_reset', method='linear')\n",
        "  G.v=[v_rest,v_rest]\n",
        "  G.I=input_current\n",
        "  S = b2.Synapses(G, G, on_pre='v_post += 1*mV')\n",
        "  S.connect(i=0, j=1)\n",
        "  M1 = b2.SpikeMonitor(G)\n",
        "  b2.run(simulation_time)\n",
        "  x,y=M1.count/simulation_time\n",
        "  return x,y\n",
        "  "
      ],
      "execution_count": 0,
      "outputs": []
    },
    {
      "cell_type": "code",
      "metadata": {
        "id": "u5M1CpfsoPZH",
        "colab_type": "code",
        "colab": {}
      },
      "source": [
        "v_rest = -70*b2.mV\n",
        "v_reset = -65*b2.mV\n",
        "firing_threshold = -50*b2.mV\n",
        "membrane_resistance = 10.* b2.Mohm\n",
        "membrane_time_scale = 10*b2.ms\n",
        "input_current=[1,0]*b2.amp\n",
        "simulation_time=500*b2.ms\n",
        "n=2"
      ],
      "execution_count": 0,
      "outputs": []
    },
    {
      "cell_type": "code",
      "metadata": {
        "id": "wlNibWEGoW7z",
        "colab_type": "code",
        "outputId": "ce643601-24dc-4e24-b995-0d9b7bcfe2b3",
        "colab": {
          "base_uri": "https://localhost:8080/",
          "height": 269
        }
      },
      "source": [
        "inputs=np.linspace(1,2000,100)\n",
        "xs=[]\n",
        "ys=[]\n",
        "for Input in inputs:\n",
        "  x,y=LIF_synapse(n,\n",
        "                [Input,0]*b2.namp,\n",
        "               simulation_time,\n",
        "               v_rest,\n",
        "               v_reset,\n",
        "               firing_threshold,\n",
        "                membrane_resistance,\n",
        "                membrane_time_scale\n",
        "               )\n",
        "  xs.append(x)\n",
        "  ys.append(y)\n",
        "plt.plot(xs,ys)\n",
        "plt.show()"
      ],
      "execution_count": 0,
      "outputs": [
        {
          "output_type": "display_data",
          "data": {
            "image/png": "[encoded data removed]",
            "text/plain": [
              "<Figure size 432x288 with 1 Axes>"
            ]
          },
          "metadata": {
            "tags": []
          }
        }
      ]
    },
    {
      "cell_type": "code",
      "metadata": {
        "id": "shiEGqwi8j5e",
        "colab_type": "code",
        "colab": {}
      },
      "source": [
        ""
      ],
      "execution_count": 0,
      "outputs": []
    }
  ]
}